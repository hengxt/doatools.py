{
 "cells": [
  {
   "cell_type": "markdown",
   "metadata": {},
   "source": [
    "# Compare the resolution limits of root-MUSIC and MVDR beamformer for a ULA"
   ]
  },
  {
   "cell_type": "code",
   "execution_count": 1,
   "metadata": {},
   "outputs": [],
   "source": [
    "import numpy as np\n",
    "import doatools.model as model\n",
    "import doatools.estimation as estimation\n",
    "import matplotlib.pyplot as plt\n",
    "from tqdm import tqdm\n",
    "%matplotlib inline"
   ]
  },
  {
   "cell_type": "code",
   "execution_count": 2,
   "metadata": {},
   "outputs": [],
   "source": [
    "wavelength = 1.0 # normalized\n",
    "d0 = wavelength / 2\n",
    "\n",
    "# Create a 10-element ULA.\n",
    "ula = model.UniformLinearArray(10, d0)\n",
    "\n",
    "# All sources share the same power.\n",
    "# SNR = 0 dB\n",
    "power_source = 1.0 # Normalized\n",
    "power_noise = 1.0\n",
    "source_signal = model.ComplexStochasticSignal(2, power_source)\n",
    "noise_signal = model.ComplexStochasticSignal(ula.size, power_noise)\n",
    "# 100 snapshots.\n",
    "n_snapshots = 100\n",
    "# Use root-MUSIC and MVDR beamformer\n",
    "root_music = estimation.RootMUSIC1D(wavelength)\n",
    "grid = estimation.FarField1DSearchGrid(start=-30.0, stop=30.0,\n",
    "                                       size=1000, unit='deg')\n",
    "mvdr = estimation.MVDRBeamformer(ula, wavelength, grid)"
   ]
  },
  {
   "cell_type": "markdown",
   "metadata": {},
   "source": [
    "We consider two sources placed at $-\\Delta\\theta/2$ and $\\Delta\\theta/2$. We reduce $\\Delta\\theta$ from $10^\\circ$ to $0.05^\\circ$ and use Monte Carlo simulations to obtain the empirical resolution probabilities.\n",
    "\n",
    "Given the estimates, $\\hat{\\theta}_1$, $\\hat{\\theta}_2$ ($\\hat{\\theta}_1 < \\hat{\\theta}_2$), we say the two sources are successfully resolved if $\\hat{\\theta}_1 \\in (-\\Delta\\theta, 0)$ and $\\hat{\\theta}_2 \\in (0, \\Delta\\theta)$. This condition is pretty strict. It requires that the estimated DOAs are reasonably close to the correct ones. On the other hand, in our implementation of DOA estimators, the resolved flag is set to `True` whenever the estimator can identify the correct number of sources even if the estimated locations are completely wrong."
   ]
  },
  {
   "cell_type": "code",
   "execution_count": 3,
   "metadata": {},
   "outputs": [
    {
     "name": "stderr",
     "output_type": "stream",
     "text": [
      "100%|██████████████████████████████████████████████████████████████| 20/20 [00:29<00:00,  1.47s/it]\n"
     ]
    }
   ],
   "source": [
    "def is_strictly_resolved(estimates, delta_theta):\n",
    "    '''Helper function to check the resolution.'''\n",
    "    if estimates.locations[0] >= 0 or estimates.locations[0] <= -delta_theta:\n",
    "        return False\n",
    "    if estimates.locations[1] <= 0 or estimates.locations[1] >= delta_theta:\n",
    "        return False\n",
    "    return True\n",
    "\n",
    "delta_thetas = np.linspace(0.05, 10.0, 20)\n",
    "# Repeat 500 times for each pair of sources.\n",
    "n_repeats = 500\n",
    "res_probs = np.zeros((delta_thetas.size, 2))\n",
    "for i, delta_theta in enumerate(tqdm(delta_thetas)):\n",
    "    n_resolved = np.array([0.0, 0.0])\n",
    "    for r in range(n_repeats):\n",
    "        sources = model.FarField1DSourcePlacement(\n",
    "            [-delta_theta / 2, delta_theta / 2],\n",
    "            unit='deg'\n",
    "        )\n",
    "        y, R = model.get_narrowband_snapshots(\n",
    "            ula, sources, wavelength, source_signal, noise_signal, n_snapshots,\n",
    "            return_covariance=True\n",
    "        )\n",
    "        res_mu, est_mu = root_music.estimate(R, 2, d0, unit='deg')\n",
    "        res_mvdr, est_mvdr = mvdr.estimate(R, 2)\n",
    "        if res_mu and is_strictly_resolved(est_mu, delta_theta):\n",
    "            n_resolved[0] += 1\n",
    "        if res_mvdr and is_strictly_resolved(est_mvdr, delta_theta):\n",
    "            n_resolved[1] += 1\n",
    "    res_probs[i, :] = n_resolved / n_repeats"
   ]
  },
  {
   "cell_type": "markdown",
   "metadata": {},
   "source": [
    "We plot the results below. We observe that the root-MUSIC algorithm provides much better resolution than the MVDR beamformer."
   ]
  },
  {
   "cell_type": "code",
   "execution_count": 4,
   "metadata": {},
   "outputs": [
    {
     "data": {
      "image/png": "[encoded data removed]",
      "text/plain": [
       "<Figure size 432x288 with 1 Axes>"
      ]
     },
     "metadata": {
      "needs_background": "light"
     },
     "output_type": "display_data"
    }
   ],
   "source": [
    "plt.figure()\n",
    "plt.plot(delta_thetas, res_probs[:, 0], label='root-MUSIC')\n",
    "plt.plot(delta_thetas, res_probs[:, 1], label='MVDR')\n",
    "plt.grid(True)\n",
    "plt.xlabel('Source separation / deg')\n",
    "plt.ylabel('Resolution probability')\n",
    "plt.margins(x=0)\n",
    "plt.legend()\n",
    "plt.show()"
   ]
  }
 ],
 "metadata": {
  "kernelspec": {
   "display_name": "doa_py",
   "language": "python",
   "name": "doa_py"
  },
  "language_info": {
   "codemirror_mode": {
    "name": "ipython",
    "version": 3
   },
   "file_extension": ".py",
   "mimetype": "text/x-python",
   "name": "python",
   "nbconvert_exporter": "python",
   "pygments_lexer": "ipython3",
   "version": "3.6.6"
  }
 },
 "nbformat": 4,
 "nbformat_minor": 2
}
